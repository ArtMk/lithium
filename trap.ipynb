{
 "cells": [
  {
   "cell_type": "code",
   "id": "498e417a-203e-4f75-b55b-5fc2bfd3f154",
   "metadata": {
    "ExecuteTime": {
     "end_time": "2025-01-24T14:51:13.186280Z",
     "start_time": "2025-01-24T14:51:12.884806Z"
    }
   },
   "source": [
    "import numpy as np\n",
    "import scipy.constants as const"
   ],
   "outputs": [],
   "execution_count": 1
  },
  {
   "cell_type": "code",
   "id": "6ccb17b5-f2b9-44f2-a150-797ae70fd184",
   "metadata": {
    "ExecuteTime": {
     "end_time": "2025-01-24T14:51:22.927227Z",
     "start_time": "2025-01-24T14:51:22.923191Z"
    }
   },
   "source": [
    "# constants\n",
    "\n",
    "# D2 transition angular frequency [Hz]\n",
    "F_RES = 2 * const.pi * const.c / 670.977338e-9\n",
    "\n",
    "# 780 nm to angular frequency [Hz]\n",
    "F_BRAGG = 2 * const.pi * const.c / 780e-9\n",
    "\n",
    "# bragg power [W]\n",
    "P_BRAGG = 10e-3\n",
    "\n",
    "# mass of lithium [kg]\n",
    "M_LI = 9.9883414e-27\n",
    "\n",
    "# beam size on atoms [m]\n",
    "W_SIZE = 50e-6\n",
    "\n",
    "# D2 transition line width [Hz]\n",
    "GAMMA = 2 * const.pi * 5.8724e6\n",
    "\n",
    "# detuning of bragg beam wrt. the resonant beam\n",
    "DELTA = np.abs(F_BRAGG - F_RES)\n"
   ],
   "outputs": [],
   "execution_count": 2
  },
  {
   "metadata": {
    "ExecuteTime": {
     "end_time": "2025-01-24T14:52:43.403024Z",
     "start_time": "2025-01-24T14:52:43.398517Z"
    }
   },
   "cell_type": "code",
   "source": [
    "def intensity(power, waist):\n",
    "    \"\"\"intensity [W m^-2]\"\"\"\n",
    "\n",
    "    return 2 * power / (const.pi * waist**2)"
   ],
   "id": "e0297c80f93bb1c8",
   "outputs": [],
   "execution_count": 3
  },
  {
   "cell_type": "code",
   "id": "883e5a48-c425-4ca0-bba0-9c546cad5365",
   "metadata": {
    "ExecuteTime": {
     "end_time": "2025-01-24T14:52:43.967481Z",
     "start_time": "2025-01-24T14:52:43.962598Z"
    }
   },
   "source": [
    "def U_dip(wavelength, power, waist):\n",
    "    \"\"\"dipole potential [J]\"\"\"\n",
    "\n",
    "    f_laser = 2 * const.pi * const.c / (wavelength * 1e-9)\n",
    "    D2_detuning = np.abs(f_laser - F_RES)\n",
    "\n",
    "    return 3 * const.pi * const.c**2 / (2 * F_RES**3) * GAMMA / D2_detuning * intensity(power, waist)"
   ],
   "outputs": [],
   "execution_count": 4
  },
  {
   "cell_type": "code",
   "id": "1e573f1b-84e5-42ab-a94e-2ef8034adea7",
   "metadata": {
    "ExecuteTime": {
     "end_time": "2025-01-24T14:52:46.756383Z",
     "start_time": "2025-01-24T14:52:46.748555Z"
    }
   },
   "source": [
    "def trap_freq(wavelength, power, waist):\n",
    "    \"\"\"trap frequency [Hz]\"\"\"\n",
    "\n",
    "    return np.sqrt(4 * U_dip(wavelength, power, waist) / (M_LI * waist**2)) / (2 * const.pi)"
   ],
   "outputs": [],
   "execution_count": 5
  },
  {
   "metadata": {
    "ExecuteTime": {
     "end_time": "2025-01-24T14:53:03.992573Z",
     "start_time": "2025-01-24T14:53:03.986574Z"
    }
   },
   "cell_type": "code",
   "source": "trap_freq(1064, P_BRAGG, W_SIZE)",
   "id": "69e14dfdc1073fc5",
   "outputs": [
    {
     "data": {
      "text/plain": [
       "83.89171806087508"
      ]
     },
     "execution_count": 7,
     "metadata": {},
     "output_type": "execute_result"
    }
   ],
   "execution_count": 7
  },
  {
   "metadata": {},
   "cell_type": "code",
   "outputs": [],
   "execution_count": null,
   "source": "",
   "id": "893d2475d09229ca"
  }
 ],
 "metadata": {
  "kernelspec": {
   "display_name": "Python 3 (ipykernel)",
   "language": "python",
   "name": "python3"
  },
  "language_info": {
   "codemirror_mode": {
    "name": "ipython",
    "version": 3
   },
   "file_extension": ".py",
   "mimetype": "text/x-python",
   "name": "python",
   "nbconvert_exporter": "python",
   "pygments_lexer": "ipython3",
   "version": "3.12.7"
  }
 },
 "nbformat": 4,
 "nbformat_minor": 5
}

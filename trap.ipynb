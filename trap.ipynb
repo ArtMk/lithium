{
 "cells": [
  {
   "metadata": {
    "ExecuteTime": {
     "end_time": "2025-01-27T18:08:37.566943Z",
     "start_time": "2025-01-27T18:08:37.551052Z"
    }
   },
   "cell_type": "code",
   "source": [
    "from li.diagnostic import trap_freq\n",
    "\n",
    "trap_freq(780, 10e-3, 50e-6)"
   ],
   "id": "69e14dfdc1073fc5",
   "outputs": [
    {
     "data": {
      "text/plain": [
       "136.3785226168286"
      ]
     },
     "execution_count": 5,
     "metadata": {},
     "output_type": "execute_result"
    }
   ],
   "execution_count": 5
  }
 ],
 "metadata": {
  "kernelspec": {
   "display_name": "Python 3 (ipykernel)",
   "language": "python",
   "name": "python3"
  },
  "language_info": {
   "codemirror_mode": {
    "name": "ipython",
    "version": 3
   },
   "file_extension": ".py",
   "mimetype": "text/x-python",
   "name": "python",
   "nbconvert_exporter": "python",
   "pygments_lexer": "ipython3",
   "version": "3.12.7"
  }
 },
 "nbformat": 4,
 "nbformat_minor": 5
}
